{
 "cells": [
  {
   "cell_type": "markdown",
   "metadata": {},
   "source": [
    "# Recommender"
   ]
  },
  {
   "cell_type": "code",
   "execution_count": null,
   "metadata": {},
   "outputs": [],
   "source": [
    "import json\n",
    "from typing import List\n",
    "\n",
    "import numpy as np\n",
    "import requests\n",
    "import torch\n",
    "from transformers import DistilBertModel, DistilBertTokenizer"
   ]
  },
  {
   "cell_type": "code",
   "execution_count": null,
   "metadata": {},
   "outputs": [],
   "source": [
    "test_user_id = 1"
   ]
  },
  {
   "cell_type": "code",
   "execution_count": null,
   "metadata": {},
   "outputs": [],
   "source": [
    "model_class, tokenizer_class, pretrained_weights = DistilBertModel, DistilBertTokenizer, 'distilbert-base-cased'\n",
    "\n",
    "# Load pretrained model/tokenizer\n",
    "tokenizer = tokenizer_class.from_pretrained(pretrained_weights)\n",
    "model = model_class.from_pretrained(pretrained_weights)"
   ]
  },
  {
   "cell_type": "code",
   "execution_count": null,
   "metadata": {},
   "outputs": [],
   "source": [
    "def embed(sentences: List[str]) -> np.ndarray:\n",
    "    # Not nice but works:\n",
    "    # encode twice to figure out max. encoded length of the input sentences\n",
    "    encoded = [tokenizer.encode(s, add_special_tokens=True) for s in sentences]\n",
    "    max_encoded_len = max((len(e) for e in encoded))\n",
    "    encoded = [tokenizer.encode(s, add_special_tokens=True, max_length=max_encoded_len, pad_to_max_length=True) for s in sentences]\n",
    "\n",
    "    input_ids = torch.tensor(encoded)  # Add special tokens takes care of adding [CLS], [SEP], <s>... tokens in the right way for each model.\n",
    "    with torch.no_grad():\n",
    "        last_hidden_states = model(input_ids)[0]  # Models outputs are now tuples\n",
    "    n = torch.mean(last_hidden_states, 1).numpy()\n",
    "    return n"
   ]
  },
  {
   "cell_type": "code",
   "execution_count": null,
   "metadata": {},
   "outputs": [],
   "source": [
    "with requests.get(f\"http://sql_app:80/users/{test_user_id}\") as r:\n",
    "    j = json.loads(r.content)"
   ]
  },
  {
   "cell_type": "code",
   "execution_count": null,
   "metadata": {},
   "outputs": [],
   "source": [
    "articles_rated_pos = []\n",
    "for rating in j[\"ratings\"]:\n",
    "    value = rating[\"value\"]\n",
    "    article_id = rating[\"article_id\"]\n",
    "    if value > 0:\n",
    "        articles_rated_pos.append(article_id)"
   ]
  },
  {
   "cell_type": "code",
   "execution_count": null,
   "metadata": {},
   "outputs": [],
   "source": [
    "def get_article_texts(article_ids: List[str]) -> List[str]:\n",
    "    texts = []\n",
    "    for a in article_ids:\n",
    "        with requests.get(f\"http://sql_app:80/articles/{a}\") as r:\n",
    "            j = json.loads(r.content)\n",
    "        title = j[\"title\"].strip()\n",
    "        if title[-1] not in \"!?.\":\n",
    "            title += \".\"\n",
    "        summary = j[\"summary\"].strip()\n",
    "        text = title + \" \" + summary\n",
    "        texts.append(text)\n",
    "    return texts"
   ]
  },
  {
   "cell_type": "code",
   "execution_count": null,
   "metadata": {},
   "outputs": [],
   "source": [
    "pos_texts = get_article_texts(articles_rated_pos)\n",
    "pos_texts_embedded = embed(pos_texts)"
   ]
  },
  {
   "cell_type": "code",
   "execution_count": null,
   "metadata": {},
   "outputs": [],
   "source": [
    "pos_texts_embedded.shape"
   ]
  },
  {
   "cell_type": "code",
   "execution_count": null,
   "metadata": {},
   "outputs": [],
   "source": [
    "articles_not_rated = []\n",
    "with requests.get(\"http://sql_app:80/articles/?skip=600&limit=100\") as r:\n",
    "    j = json.loads(r.content)\n",
    "\n",
    "for article in j:\n",
    "    rated_by_user = False\n",
    "    for rating in article[\"ratings\"]:\n",
    "        user_id = rating.get(\"user_id\", \"\")\n",
    "        if user_id == test_user_id:\n",
    "            rated_by_user = True\n",
    "            break\n",
    "    if not rated_by_user:\n",
    "        articles_not_rated.append(article[\"id\"])"
   ]
  },
  {
   "cell_type": "code",
   "execution_count": null,
   "metadata": {},
   "outputs": [],
   "source": [
    "unrated_texts = get_article_texts(articles_not_rated)\n",
    "unrated_texts_embedded = embed(unrated_texts)"
   ]
  },
  {
   "cell_type": "code",
   "execution_count": null,
   "metadata": {},
   "outputs": [],
   "source": [
    "unrated_texts_embedded.shape"
   ]
  }
 ],
 "metadata": {
  "kernelspec": {
   "display_name": "Python 3",
   "language": "python",
   "name": "python3"
  },
  "language_info": {
   "codemirror_mode": {
    "name": "ipython",
    "version": 3
   },
   "file_extension": ".py",
   "mimetype": "text/x-python",
   "name": "python",
   "nbconvert_exporter": "python",
   "pygments_lexer": "ipython3",
   "version": "3.7.6"
  }
 },
 "nbformat": 4,
 "nbformat_minor": 4
}
